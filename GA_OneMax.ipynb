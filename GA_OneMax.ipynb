{
  "nbformat": 4,
  "nbformat_minor": 0,
  "metadata": {
    "colab": {
      "provenance": [],
      "authorship_tag": "ABX9TyNtVoaWF+9EVMVLU0S8gurz",
      "include_colab_link": true
    },
    "kernelspec": {
      "name": "python3",
      "display_name": "Python 3"
    },
    "language_info": {
      "name": "python"
    }
  },
  "cells": [
    {
      "cell_type": "markdown",
      "metadata": {
        "id": "view-in-github",
        "colab_type": "text"
      },
      "source": [
        "<a href=\"https://colab.research.google.com/github/fahad-maqbool/Simple-Genetic-Algorithm/blob/main/GA_OneMax.ipynb\" target=\"_parent\"><img src=\"https://colab.research.google.com/assets/colab-badge.svg\" alt=\"Open In Colab\"/></a>"
      ]
    },
    {
      "cell_type": "code",
      "execution_count": 9,
      "metadata": {
        "colab": {
          "base_uri": "https://localhost:8080/"
        },
        "id": "LIVFSlK7lNu_",
        "outputId": "0e287cdc-d802-40fc-cd4c-76c5771b08e6"
      },
      "outputs": [
        {
          "output_type": "stream",
          "name": "stdout",
          "text": [
            ">0, new best f([1, 0, 1, 1, 1, 0, 0, 1, 1, 1, 1, 1, 1, 0, 0, 1, 1, 1, 0, 0]) = -13.000\n",
            ">0, new best f([1, 1, 0, 0, 1, 1, 1, 1, 1, 1, 1, 1, 1, 0, 0, 0, 1, 1, 1, 0]) = -14.000\n",
            ">0, new best f([1, 1, 1, 1, 1, 1, 1, 1, 0, 1, 0, 1, 1, 1, 1, 0, 1, 1, 0, 1]) = -16.000\n",
            ">2, new best f([1, 1, 1, 1, 0, 1, 1, 1, 1, 1, 1, 1, 1, 1, 0, 1, 0, 1, 1, 1]) = -17.000\n",
            ">4, new best f([1, 1, 1, 1, 1, 1, 1, 1, 1, 1, 1, 0, 1, 0, 1, 1, 1, 1, 1, 1]) = -18.000\n",
            ">6, new best f([1, 1, 1, 1, 1, 1, 1, 1, 1, 1, 1, 0, 1, 1, 1, 1, 1, 1, 1, 1]) = -19.000\n",
            ">7, new best f([1, 1, 1, 1, 1, 1, 1, 1, 1, 1, 1, 1, 1, 1, 1, 1, 1, 1, 1, 1]) = -20.000\n",
            "Executed Successfully!\n",
            "f([1, 1, 1, 1, 1, 1, 1, 1, 1, 1, 1, 1, 1, 1, 1, 1, 1, 1, 1, 1]) = -20.000000\n"
          ]
        }
      ],
      "source": [
        "\n",
        "# one max search optimization problem suing Simple Genetic Algorithm\n",
        "from numpy.random import randint\n",
        "from numpy.random import rand\n",
        " \n",
        "# objective function\n",
        "def onemax(x):\n",
        "\treturn -sum(x)\n",
        " \n",
        "# selection operator using Tournament approach\n",
        "def selection(pop, scores, k=3):\n",
        "\tselection_ix = randint(len(pop))\n",
        "\tfor ix in randint(0, len(pop), k-1):\n",
        "\t\tif scores[ix] < scores[selection_ix]:\n",
        "\t\t\tselection_ix = ix\n",
        "\treturn pop[selection_ix]\n",
        " \n",
        "# Random Single Point Crossover\n",
        "def crossover(parent1, parent2, rCross):\n",
        "\toffspring1, offspring2 = parent1.copy(), parent2.copy()\n",
        "\tif rand() < rCross:\n",
        "\t\tpt = randint(1, len(parent1)-2)\n",
        "\t\toffspring1 = parent1[:pt] + parent2[pt:]\n",
        "\t\toffspring2 = parent2[:pt] + parent1[pt:]\n",
        "\treturn [offspring1, offspring2]\n",
        " \n",
        "# mutation operator\n",
        "def mutation(chromosome, rMutation):\n",
        "\tfor i in range(len(chromosome)):\n",
        "\t\t# check for a mutation\n",
        "\t\tif rand() < rMutation:\n",
        "\t\t\t# flip the bit\n",
        "\t\t\tchromosome[i] = 1 - chromosome[i]\n",
        " \n",
        "# genetic algorithm\n",
        "def genetic_algorithm(objectiveFunc, chromoLength, n_iter, n_pop, r_cross, r_mut):\n",
        "\tpop = [randint(0, 2, chromoLength).tolist() for _ in range(n_pop)]\n",
        "\tbest, best_eval = 0, objectiveFunc(pop[0])\n",
        "\tfor gen in range(n_iter):\n",
        "\t\tscores = [objectiveFunc(c) for c in pop]\n",
        "\t\tfor i in range(n_pop):\n",
        "\t\t\tif scores[i] < best_eval:\n",
        "\t\t\t\tbest, best_eval = pop[i], scores[i]\n",
        "\t\t\t\tprint(\">%d, new best f(%s) = %.3f\" % (gen,  pop[i], scores[i]))\n",
        "\t\tselected = [selection(pop, scores) for _ in range(n_pop)]\n",
        "\t\tchildren = list()\n",
        "\t\tfor i in range(0, n_pop, 2):\n",
        "\t\t\tp1, p2 = selected[i], selected[i+1]\n",
        "\t\t\tfor c in crossover(p1, p2, r_cross):\n",
        "\t\t\t\tmutation(c, r_mut)\n",
        "\t\t\t\tchildren.append(c)\n",
        "\t\tpop = children\n",
        "\treturn [best, best_eval]\n",
        " \n",
        "n_iter = 100\n",
        "n_bits = 20\n",
        "n_pop = 100\n",
        "r_cross = 0.9\n",
        "r_mut = 1.0 / float(n_bits)\n",
        "best, score = genetic_algorithm(onemax, n_bits, n_iter, n_pop, r_cross, r_mut)\n",
        "print('Executed Successfully!')\n",
        "print('f(%s) = %f' % (best, score))"
      ]
    }
  ]
}